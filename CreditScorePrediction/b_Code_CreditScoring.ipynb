{
 "cells": [
  {
   "cell_type": "markdown",
   "metadata": {
    "id": "tLLLopyLmOxU"
   },
   "source": [
    "### Importing libraries & functions\n",
    "\n",
    "\n",
    "\n"
   ]
  },
  {
   "cell_type": "code",
   "execution_count": 1,
   "metadata": {
    "executionInfo": {
     "elapsed": 2625,
     "status": "ok",
     "timestamp": 1673687236171,
     "user": {
      "displayName": "Skillcate AI",
      "userId": "11062674699417926870"
     },
     "user_tz": -330
    },
    "id": "Z0zpJk7CmHiH"
   },
   "outputs": [],
   "source": [
    "import pandas as pd\n",
    "import numpy as np\n",
    "\n",
    "from sklearn.model_selection import train_test_split\n",
    "from sklearn.preprocessing import StandardScaler\n",
    "from sklearn.metrics import classification_report, confusion_matrix, accuracy_score\n",
    "from sklearn.linear_model import LogisticRegression"
   ]
  },
  {
   "cell_type": "markdown",
   "metadata": {
    "id": "d3KLBB_ajJPf"
   },
   "source": [
    "### Importing dataset"
   ]
  },
  {
   "cell_type": "code",
   "execution_count": 2,
   "metadata": {
    "executionInfo": {
     "elapsed": 2076,
     "status": "ok",
     "timestamp": 1673687280682,
     "user": {
      "displayName": "Skillcate AI",
      "userId": "11062674699417926870"
     },
     "user_tz": -330
    },
    "id": "a5BrHGMEjyL5"
   },
   "outputs": [],
   "source": [
    "dataset=pd.read_excel('CreditScoring.xlsx', engine='openpyxl')"
   ]
  },
  {
   "cell_type": "markdown",
   "metadata": {
    "id": "BKEq_6x1mYTL"
   },
   "source": [
    "### Data preparation"
   ]
  },
  {
   "cell_type": "code",
   "execution_count": 3,
   "metadata": {
    "colab": {
     "base_uri": "https://localhost:8080/"
    },
    "executionInfo": {
     "elapsed": 423,
     "status": "ok",
     "timestamp": 1673687287664,
     "user": {
      "displayName": "Skillcate AI",
      "userId": "11062674699417926870"
     },
     "user_tz": -330
    },
    "id": "9V3vK-KsjeEY",
    "outputId": "109c4a65-39ef-4500-a626-24dfceb58b63"
   },
   "outputs": [
    {
     "data": {
      "text/plain": [
       "(3000, 30)"
      ]
     },
     "execution_count": 3,
     "metadata": {},
     "output_type": "execute_result"
    }
   ],
   "source": [
    "# shows count of rows and columns\n",
    "dataset.shape"
   ]
  },
  {
   "cell_type": "code",
   "execution_count": 4,
   "metadata": {
    "colab": {
     "base_uri": "https://localhost:8080/",
     "height": 299
    },
    "executionInfo": {
     "elapsed": 9,
     "status": "ok",
     "timestamp": 1673687291180,
     "user": {
      "displayName": "Skillcate AI",
      "userId": "11062674699417926870"
     },
     "user_tz": -330
    },
    "id": "82u-muk25Ahf",
    "outputId": "535d861d-c0b6-4324-8b48-22739bcd9794"
   },
   "outputs": [
    {
     "data": {
      "text/html": [
       "<div>\n",
       "<style scoped>\n",
       "    .dataframe tbody tr th:only-of-type {\n",
       "        vertical-align: middle;\n",
       "    }\n",
       "\n",
       "    .dataframe tbody tr th {\n",
       "        vertical-align: top;\n",
       "    }\n",
       "\n",
       "    .dataframe thead th {\n",
       "        text-align: right;\n",
       "    }\n",
       "</style>\n",
       "<table border=\"1\" class=\"dataframe\">\n",
       "  <thead>\n",
       "    <tr style=\"text-align: right;\">\n",
       "      <th></th>\n",
       "      <th>TARGET</th>\n",
       "      <th>ID</th>\n",
       "      <th>DerogCnt</th>\n",
       "      <th>CollectCnt</th>\n",
       "      <th>BanruptcyInd</th>\n",
       "      <th>InqCnt06</th>\n",
       "      <th>InqTimeLast</th>\n",
       "      <th>InqFinanceCnt24</th>\n",
       "      <th>TLTimeFirst</th>\n",
       "      <th>TLTimeLast</th>\n",
       "      <th>...</th>\n",
       "      <th>TL50UtilCnt</th>\n",
       "      <th>TLBalHCPct</th>\n",
       "      <th>TLSatPct</th>\n",
       "      <th>TLDel3060Cnt24</th>\n",
       "      <th>TLDel90Cnt24</th>\n",
       "      <th>TLDel60CntAll</th>\n",
       "      <th>TLOpenPct</th>\n",
       "      <th>TLBadDerogCnt</th>\n",
       "      <th>TLDel60Cnt24</th>\n",
       "      <th>TLOpen24Pct</th>\n",
       "    </tr>\n",
       "  </thead>\n",
       "  <tbody>\n",
       "    <tr>\n",
       "      <th>0</th>\n",
       "      <td>1</td>\n",
       "      <td>582</td>\n",
       "      <td>3</td>\n",
       "      <td>3</td>\n",
       "      <td>0</td>\n",
       "      <td>4</td>\n",
       "      <td>0.0</td>\n",
       "      <td>5</td>\n",
       "      <td>117</td>\n",
       "      <td>27</td>\n",
       "      <td>...</td>\n",
       "      <td>3.0</td>\n",
       "      <td>0.9179</td>\n",
       "      <td>0.2083</td>\n",
       "      <td>2</td>\n",
       "      <td>3</td>\n",
       "      <td>7</td>\n",
       "      <td>0.2083</td>\n",
       "      <td>4</td>\n",
       "      <td>4</td>\n",
       "      <td>0.0000</td>\n",
       "    </tr>\n",
       "    <tr>\n",
       "      <th>1</th>\n",
       "      <td>1</td>\n",
       "      <td>662</td>\n",
       "      <td>15</td>\n",
       "      <td>9</td>\n",
       "      <td>0</td>\n",
       "      <td>3</td>\n",
       "      <td>1.0</td>\n",
       "      <td>3</td>\n",
       "      <td>14</td>\n",
       "      <td>14</td>\n",
       "      <td>...</td>\n",
       "      <td>1.0</td>\n",
       "      <td>0.8000</td>\n",
       "      <td>0.0000</td>\n",
       "      <td>0</td>\n",
       "      <td>0</td>\n",
       "      <td>0</td>\n",
       "      <td>1.0000</td>\n",
       "      <td>12</td>\n",
       "      <td>0</td>\n",
       "      <td>1.0000</td>\n",
       "    </tr>\n",
       "    <tr>\n",
       "      <th>2</th>\n",
       "      <td>1</td>\n",
       "      <td>805</td>\n",
       "      <td>0</td>\n",
       "      <td>0</td>\n",
       "      <td>0</td>\n",
       "      <td>1</td>\n",
       "      <td>5.0</td>\n",
       "      <td>1</td>\n",
       "      <td>354</td>\n",
       "      <td>7</td>\n",
       "      <td>...</td>\n",
       "      <td>5.0</td>\n",
       "      <td>0.3552</td>\n",
       "      <td>0.6538</td>\n",
       "      <td>0</td>\n",
       "      <td>1</td>\n",
       "      <td>1</td>\n",
       "      <td>0.7308</td>\n",
       "      <td>1</td>\n",
       "      <td>1</td>\n",
       "      <td>0.5263</td>\n",
       "    </tr>\n",
       "    <tr>\n",
       "      <th>3</th>\n",
       "      <td>1</td>\n",
       "      <td>1175</td>\n",
       "      <td>8</td>\n",
       "      <td>5</td>\n",
       "      <td>0</td>\n",
       "      <td>6</td>\n",
       "      <td>1.0</td>\n",
       "      <td>10</td>\n",
       "      <td>16</td>\n",
       "      <td>4</td>\n",
       "      <td>...</td>\n",
       "      <td>3.0</td>\n",
       "      <td>0.9127</td>\n",
       "      <td>0.2500</td>\n",
       "      <td>1</td>\n",
       "      <td>1</td>\n",
       "      <td>1</td>\n",
       "      <td>0.7500</td>\n",
       "      <td>7</td>\n",
       "      <td>1</td>\n",
       "      <td>1.3333</td>\n",
       "    </tr>\n",
       "    <tr>\n",
       "      <th>4</th>\n",
       "      <td>1</td>\n",
       "      <td>1373</td>\n",
       "      <td>3</td>\n",
       "      <td>1</td>\n",
       "      <td>0</td>\n",
       "      <td>9</td>\n",
       "      <td>0.0</td>\n",
       "      <td>8</td>\n",
       "      <td>130</td>\n",
       "      <td>52</td>\n",
       "      <td>...</td>\n",
       "      <td>1.0</td>\n",
       "      <td>1.2511</td>\n",
       "      <td>0.0000</td>\n",
       "      <td>0</td>\n",
       "      <td>1</td>\n",
       "      <td>4</td>\n",
       "      <td>0.1429</td>\n",
       "      <td>3</td>\n",
       "      <td>1</td>\n",
       "      <td>0.0000</td>\n",
       "    </tr>\n",
       "  </tbody>\n",
       "</table>\n",
       "<p>5 rows × 30 columns</p>\n",
       "</div>"
      ],
      "text/plain": [
       "   TARGET    ID  DerogCnt  CollectCnt  BanruptcyInd  InqCnt06  InqTimeLast   \n",
       "0       1   582         3           3             0         4          0.0  \\\n",
       "1       1   662        15           9             0         3          1.0   \n",
       "2       1   805         0           0             0         1          5.0   \n",
       "3       1  1175         8           5             0         6          1.0   \n",
       "4       1  1373         3           1             0         9          0.0   \n",
       "\n",
       "   InqFinanceCnt24  TLTimeFirst  TLTimeLast  ...  TL50UtilCnt  TLBalHCPct   \n",
       "0                5          117          27  ...          3.0      0.9179  \\\n",
       "1                3           14          14  ...          1.0      0.8000   \n",
       "2                1          354           7  ...          5.0      0.3552   \n",
       "3               10           16           4  ...          3.0      0.9127   \n",
       "4                8          130          52  ...          1.0      1.2511   \n",
       "\n",
       "   TLSatPct  TLDel3060Cnt24  TLDel90Cnt24  TLDel60CntAll  TLOpenPct   \n",
       "0    0.2083               2             3              7     0.2083  \\\n",
       "1    0.0000               0             0              0     1.0000   \n",
       "2    0.6538               0             1              1     0.7308   \n",
       "3    0.2500               1             1              1     0.7500   \n",
       "4    0.0000               0             1              4     0.1429   \n",
       "\n",
       "   TLBadDerogCnt  TLDel60Cnt24  TLOpen24Pct  \n",
       "0              4             4       0.0000  \n",
       "1             12             0       1.0000  \n",
       "2              1             1       0.5263  \n",
       "3              7             1       1.3333  \n",
       "4              3             1       0.0000  \n",
       "\n",
       "[5 rows x 30 columns]"
      ]
     },
     "execution_count": 4,
     "metadata": {},
     "output_type": "execute_result"
    }
   ],
   "source": [
    "#shows first few rows of the code\n",
    "dataset.head()"
   ]
  },
  {
   "cell_type": "code",
   "execution_count": 5,
   "metadata": {},
   "outputs": [
    {
     "data": {
      "text/html": [
       "<div>\n",
       "<style scoped>\n",
       "    .dataframe tbody tr th:only-of-type {\n",
       "        vertical-align: middle;\n",
       "    }\n",
       "\n",
       "    .dataframe tbody tr th {\n",
       "        vertical-align: top;\n",
       "    }\n",
       "\n",
       "    .dataframe thead th {\n",
       "        text-align: right;\n",
       "    }\n",
       "</style>\n",
       "<table border=\"1\" class=\"dataframe\">\n",
       "  <thead>\n",
       "    <tr style=\"text-align: right;\">\n",
       "      <th></th>\n",
       "      <th>TARGET</th>\n",
       "      <th>ID</th>\n",
       "      <th>DerogCnt</th>\n",
       "      <th>CollectCnt</th>\n",
       "      <th>BanruptcyInd</th>\n",
       "      <th>InqCnt06</th>\n",
       "      <th>InqTimeLast</th>\n",
       "      <th>InqFinanceCnt24</th>\n",
       "      <th>TLTimeFirst</th>\n",
       "      <th>TLTimeLast</th>\n",
       "      <th>...</th>\n",
       "      <th>TL50UtilCnt</th>\n",
       "      <th>TLBalHCPct</th>\n",
       "      <th>TLSatPct</th>\n",
       "      <th>TLDel3060Cnt24</th>\n",
       "      <th>TLDel90Cnt24</th>\n",
       "      <th>TLDel60CntAll</th>\n",
       "      <th>TLOpenPct</th>\n",
       "      <th>TLBadDerogCnt</th>\n",
       "      <th>TLDel60Cnt24</th>\n",
       "      <th>TLOpen24Pct</th>\n",
       "    </tr>\n",
       "  </thead>\n",
       "  <tbody>\n",
       "    <tr>\n",
       "      <th>2995</th>\n",
       "      <td>0</td>\n",
       "      <td>126441</td>\n",
       "      <td>0</td>\n",
       "      <td>0</td>\n",
       "      <td>0</td>\n",
       "      <td>2</td>\n",
       "      <td>0.0</td>\n",
       "      <td>2</td>\n",
       "      <td>199</td>\n",
       "      <td>10</td>\n",
       "      <td>...</td>\n",
       "      <td>9.0</td>\n",
       "      <td>0.7853</td>\n",
       "      <td>0.6923</td>\n",
       "      <td>0</td>\n",
       "      <td>0</td>\n",
       "      <td>0</td>\n",
       "      <td>0.6538</td>\n",
       "      <td>0</td>\n",
       "      <td>0</td>\n",
       "      <td>0.3529</td>\n",
       "    </tr>\n",
       "    <tr>\n",
       "      <th>2996</th>\n",
       "      <td>0</td>\n",
       "      <td>126448</td>\n",
       "      <td>0</td>\n",
       "      <td>0</td>\n",
       "      <td>0</td>\n",
       "      <td>0</td>\n",
       "      <td>NaN</td>\n",
       "      <td>0</td>\n",
       "      <td>270</td>\n",
       "      <td>3</td>\n",
       "      <td>...</td>\n",
       "      <td>5.0</td>\n",
       "      <td>0.5766</td>\n",
       "      <td>0.9286</td>\n",
       "      <td>0</td>\n",
       "      <td>0</td>\n",
       "      <td>0</td>\n",
       "      <td>0.8571</td>\n",
       "      <td>0</td>\n",
       "      <td>0</td>\n",
       "      <td>0.4167</td>\n",
       "    </tr>\n",
       "    <tr>\n",
       "      <th>2997</th>\n",
       "      <td>0</td>\n",
       "      <td>126465</td>\n",
       "      <td>1</td>\n",
       "      <td>1</td>\n",
       "      <td>0</td>\n",
       "      <td>8</td>\n",
       "      <td>0.0</td>\n",
       "      <td>5</td>\n",
       "      <td>234</td>\n",
       "      <td>4</td>\n",
       "      <td>...</td>\n",
       "      <td>9.0</td>\n",
       "      <td>0.8722</td>\n",
       "      <td>0.6071</td>\n",
       "      <td>0</td>\n",
       "      <td>0</td>\n",
       "      <td>0</td>\n",
       "      <td>0.4286</td>\n",
       "      <td>1</td>\n",
       "      <td>0</td>\n",
       "      <td>0.7500</td>\n",
       "    </tr>\n",
       "    <tr>\n",
       "      <th>2998</th>\n",
       "      <td>0</td>\n",
       "      <td>126487</td>\n",
       "      <td>4</td>\n",
       "      <td>4</td>\n",
       "      <td>0</td>\n",
       "      <td>2</td>\n",
       "      <td>3.0</td>\n",
       "      <td>1</td>\n",
       "      <td>257</td>\n",
       "      <td>3</td>\n",
       "      <td>...</td>\n",
       "      <td>3.0</td>\n",
       "      <td>1.0391</td>\n",
       "      <td>0.6000</td>\n",
       "      <td>0</td>\n",
       "      <td>1</td>\n",
       "      <td>2</td>\n",
       "      <td>0.6000</td>\n",
       "      <td>4</td>\n",
       "      <td>1</td>\n",
       "      <td>1.0000</td>\n",
       "    </tr>\n",
       "    <tr>\n",
       "      <th>2999</th>\n",
       "      <td>0</td>\n",
       "      <td>126503</td>\n",
       "      <td>2</td>\n",
       "      <td>1</td>\n",
       "      <td>1</td>\n",
       "      <td>0</td>\n",
       "      <td>18.0</td>\n",
       "      <td>0</td>\n",
       "      <td>254</td>\n",
       "      <td>119</td>\n",
       "      <td>...</td>\n",
       "      <td>1.0</td>\n",
       "      <td>0.3239</td>\n",
       "      <td>0.1667</td>\n",
       "      <td>0</td>\n",
       "      <td>2</td>\n",
       "      <td>4</td>\n",
       "      <td>0.5000</td>\n",
       "      <td>3</td>\n",
       "      <td>2</td>\n",
       "      <td>0.0000</td>\n",
       "    </tr>\n",
       "  </tbody>\n",
       "</table>\n",
       "<p>5 rows × 30 columns</p>\n",
       "</div>"
      ],
      "text/plain": [
       "      TARGET      ID  DerogCnt  CollectCnt  BanruptcyInd  InqCnt06   \n",
       "2995       0  126441         0           0             0         2  \\\n",
       "2996       0  126448         0           0             0         0   \n",
       "2997       0  126465         1           1             0         8   \n",
       "2998       0  126487         4           4             0         2   \n",
       "2999       0  126503         2           1             1         0   \n",
       "\n",
       "      InqTimeLast  InqFinanceCnt24  TLTimeFirst  TLTimeLast  ...  TL50UtilCnt   \n",
       "2995          0.0                2          199          10  ...          9.0  \\\n",
       "2996          NaN                0          270           3  ...          5.0   \n",
       "2997          0.0                5          234           4  ...          9.0   \n",
       "2998          3.0                1          257           3  ...          3.0   \n",
       "2999         18.0                0          254         119  ...          1.0   \n",
       "\n",
       "      TLBalHCPct  TLSatPct  TLDel3060Cnt24  TLDel90Cnt24  TLDel60CntAll   \n",
       "2995      0.7853    0.6923               0             0              0  \\\n",
       "2996      0.5766    0.9286               0             0              0   \n",
       "2997      0.8722    0.6071               0             0              0   \n",
       "2998      1.0391    0.6000               0             1              2   \n",
       "2999      0.3239    0.1667               0             2              4   \n",
       "\n",
       "      TLOpenPct  TLBadDerogCnt  TLDel60Cnt24  TLOpen24Pct  \n",
       "2995     0.6538              0             0       0.3529  \n",
       "2996     0.8571              0             0       0.4167  \n",
       "2997     0.4286              1             0       0.7500  \n",
       "2998     0.6000              4             1       1.0000  \n",
       "2999     0.5000              3             2       0.0000  \n",
       "\n",
       "[5 rows x 30 columns]"
      ]
     },
     "execution_count": 5,
     "metadata": {},
     "output_type": "execute_result"
    }
   ],
   "source": [
    "# Printing last few rows of the given dataset\n",
    "dataset.tail()"
   ]
  },
  {
   "cell_type": "code",
   "execution_count": 6,
   "metadata": {
    "colab": {
     "base_uri": "https://localhost:8080/"
    },
    "executionInfo": {
     "elapsed": 414,
     "status": "ok",
     "timestamp": 1673687301782,
     "user": {
      "displayName": "Skillcate AI",
      "userId": "11062674699417926870"
     },
     "user_tz": -330
    },
    "id": "kOEVc6QXmuib",
    "outputId": "6fbac2e7-7224-4e78-c375-9393ebee4498"
   },
   "outputs": [
    {
     "data": {
      "text/plain": [
       "(3000, 29)"
      ]
     },
     "execution_count": 6,
     "metadata": {},
     "output_type": "execute_result"
    }
   ],
   "source": [
    "#dropping customer ID column from the dataset\n",
    "dataset=dataset.drop('ID',axis=1)\n",
    "dataset.shape"
   ]
  },
  {
   "cell_type": "code",
   "execution_count": 7,
   "metadata": {
    "colab": {
     "base_uri": "https://localhost:8080/"
    },
    "executionInfo": {
     "elapsed": 3,
     "status": "ok",
     "timestamp": 1673687303965,
     "user": {
      "displayName": "Skillcate AI",
      "userId": "11062674699417926870"
     },
     "user_tz": -330
    },
    "id": "BWa-g8lXpUVX",
    "outputId": "3475f2a4-8b28-4b73-8edc-1219edc4efa1"
   },
   "outputs": [
    {
     "data": {
      "text/plain": [
       "TARGET               0\n",
       "DerogCnt             0\n",
       "CollectCnt           0\n",
       "BanruptcyInd         0\n",
       "InqCnt06             0\n",
       "InqTimeLast        188\n",
       "InqFinanceCnt24      0\n",
       "TLTimeFirst          0\n",
       "TLTimeLast           0\n",
       "TLCnt03              0\n",
       "TLCnt12              0\n",
       "TLCnt24              0\n",
       "TLCnt                3\n",
       "TLSum               40\n",
       "TLMaxSum            40\n",
       "TLSatCnt             4\n",
       "TLDel60Cnt           0\n",
       "TLBadCnt24           0\n",
       "TL75UtilCnt         99\n",
       "TL50UtilCnt         99\n",
       "TLBalHCPct          41\n",
       "TLSatPct             4\n",
       "TLDel3060Cnt24       0\n",
       "TLDel90Cnt24         0\n",
       "TLDel60CntAll        0\n",
       "TLOpenPct            3\n",
       "TLBadDerogCnt        0\n",
       "TLDel60Cnt24         0\n",
       "TLOpen24Pct          3\n",
       "dtype: int64"
      ]
     },
     "execution_count": 7,
     "metadata": {},
     "output_type": "execute_result"
    }
   ],
   "source": [
    "# explore missing values\n",
    "dataset.isna().sum()"
   ]
  },
  {
   "cell_type": "code",
   "execution_count": 13,
   "metadata": {},
   "outputs": [
    {
     "data": {
      "text/plain": [
       "<bound method NDFrame.describe of       TARGET  DerogCnt  CollectCnt  BanruptcyInd  InqCnt06  InqTimeLast   \n",
       "0          1         3           3             0         4          0.0  \\\n",
       "1          1        15           9             0         3          1.0   \n",
       "2          1         0           0             0         1          5.0   \n",
       "3          1         8           5             0         6          1.0   \n",
       "4          1         3           1             0         9          0.0   \n",
       "...      ...       ...         ...           ...       ...          ...   \n",
       "2995       0         0           0             0         2          0.0   \n",
       "2996       0         0           0             0         0          NaN   \n",
       "2997       0         1           1             0         8          0.0   \n",
       "2998       0         4           4             0         2          3.0   \n",
       "2999       0         2           1             1         0         18.0   \n",
       "\n",
       "      InqFinanceCnt24  TLTimeFirst  TLTimeLast  TLCnt03  ...  TL50UtilCnt   \n",
       "0                   5          117          27        0  ...          3.0  \\\n",
       "1                   3           14          14        0  ...          1.0   \n",
       "2                   1          354           7        0  ...          5.0   \n",
       "3                  10           16           4        0  ...          3.0   \n",
       "4                   8          130          52        0  ...          1.0   \n",
       "...               ...          ...         ...      ...  ...          ...   \n",
       "2995                2          199          10        0  ...          9.0   \n",
       "2996                0          270           3        1  ...          5.0   \n",
       "2997                5          234           4        0  ...          9.0   \n",
       "2998                1          257           3        1  ...          3.0   \n",
       "2999                0          254         119        0  ...          1.0   \n",
       "\n",
       "      TLBalHCPct  TLSatPct TLDel3060Cnt24 TLDel90Cnt24  TLDel60CntAll   \n",
       "0          91%_)     20%_)              2            3              7  \\\n",
       "1          80%_)      0%_)              0            0              0   \n",
       "2          35%_)     65%_)              0            1              1   \n",
       "3          91%_)     25%_)              1            1              1   \n",
       "4         125%_)      0%_)              0            1              4   \n",
       "...          ...       ...            ...          ...            ...   \n",
       "2995       78%_)     69%_)              0            0              0   \n",
       "2996       57%_)     92%_)              0            0              0   \n",
       "2997       87%_)     60%_)              0            0              0   \n",
       "2998      103%_)     60%_)              0            1              2   \n",
       "2999       32%_)     16%_)              0            2              4   \n",
       "\n",
       "      TLOpenPct  TLBadDerogCnt  TLDel60Cnt24  TLOpen24Pct  \n",
       "0         20%_)              4             4         0%_)  \n",
       "1        100%_)             12             0       100%_)  \n",
       "2         73%_)              1             1        52%_)  \n",
       "3         75%_)              7             1       133%_)  \n",
       "4         14%_)              3             1         0%_)  \n",
       "...         ...            ...           ...          ...  \n",
       "2995      65%_)              0             0        35%_)  \n",
       "2996      85%_)              0             0        41%_)  \n",
       "2997      42%_)              1             0        75%_)  \n",
       "2998      60%_)              4             1       100%_)  \n",
       "2999      50%_)              3             2         0%_)  \n",
       "\n",
       "[3000 rows x 29 columns]>"
      ]
     },
     "execution_count": 13,
     "metadata": {},
     "output_type": "execute_result"
    }
   ],
   "source": [
    "dataset.describe"
   ]
  },
  {
   "cell_type": "code",
   "execution_count": 8,
   "metadata": {
    "executionInfo": {
     "elapsed": 502,
     "status": "ok",
     "timestamp": 1673687311208,
     "user": {
      "displayName": "Skillcate AI",
      "userId": "11062674699417926870"
     },
     "user_tz": -330
    },
    "id": "iwg__6smjkb4"
   },
   "outputs": [],
   "source": [
    "# filling missing values with mean\n",
    "\n",
    "dataset=dataset.fillna(dataset.mean())"
   ]
  },
  {
   "cell_type": "code",
   "execution_count": 9,
   "metadata": {
    "colab": {
     "base_uri": "https://localhost:8080/"
    },
    "executionInfo": {
     "elapsed": 3,
     "status": "ok",
     "timestamp": 1673687312801,
     "user": {
      "displayName": "Skillcate AI",
      "userId": "11062674699417926870"
     },
     "user_tz": -330
    },
    "id": "Js3lP_KAm5-q",
    "outputId": "47ee7903-b106-4cf6-9bcf-c3d07b0d7da4"
   },
   "outputs": [
    {
     "data": {
      "text/plain": [
       "TARGET             0\n",
       "DerogCnt           0\n",
       "CollectCnt         0\n",
       "BanruptcyInd       0\n",
       "InqCnt06           0\n",
       "InqTimeLast        0\n",
       "InqFinanceCnt24    0\n",
       "TLTimeFirst        0\n",
       "TLTimeLast         0\n",
       "TLCnt03            0\n",
       "TLCnt12            0\n",
       "TLCnt24            0\n",
       "TLCnt              0\n",
       "TLSum              0\n",
       "TLMaxSum           0\n",
       "TLSatCnt           0\n",
       "TLDel60Cnt         0\n",
       "TLBadCnt24         0\n",
       "TL75UtilCnt        0\n",
       "TL50UtilCnt        0\n",
       "TLBalHCPct         0\n",
       "TLSatPct           0\n",
       "TLDel3060Cnt24     0\n",
       "TLDel90Cnt24       0\n",
       "TLDel60CntAll      0\n",
       "TLOpenPct          0\n",
       "TLBadDerogCnt      0\n",
       "TLDel60Cnt24       0\n",
       "TLOpen24Pct        0\n",
       "dtype: int64"
      ]
     },
     "execution_count": 9,
     "metadata": {},
     "output_type": "execute_result"
    }
   ],
   "source": [
    "# explore missing values post missing value fix\n",
    "dataset.isna().sum()"
   ]
  },
  {
   "cell_type": "markdown",
   "metadata": {
    "id": "3Ib6drIfoGym"
   },
   "source": [
    "### Train Test Split"
   ]
  },
  {
   "cell_type": "code",
   "execution_count": 10,
   "metadata": {
    "executionInfo": {
     "elapsed": 398,
     "status": "ok",
     "timestamp": 1673687367462,
     "user": {
      "displayName": "Skillcate AI",
      "userId": "11062674699417926870"
     },
     "user_tz": -330
    },
    "id": "X9Fdr5ktkr5O"
   },
   "outputs": [],
   "source": [
    "y = dataset.iloc[:, 0].values\n",
    "X = dataset.iloc[:, 1:29].values"
   ]
  },
  {
   "cell_type": "code",
   "execution_count": 11,
   "metadata": {
    "executionInfo": {
     "elapsed": 4,
     "status": "ok",
     "timestamp": 1673687394019,
     "user": {
      "displayName": "Skillcate AI",
      "userId": "11062674699417926870"
     },
     "user_tz": -330
    },
    "id": "_XooWLTcoK5u"
   },
   "outputs": [],
   "source": [
    "# splitting dataset into training and test (in ratio 80:20)\n",
    "\n",
    "X_train, X_test, y_train, y_test = train_test_split(X, y, test_size=0.2, random_state=0, stratify=y)"
   ]
  },
  {
   "cell_type": "code",
   "execution_count": 12,
   "metadata": {
    "executionInfo": {
     "elapsed": 4,
     "status": "ok",
     "timestamp": 1673687399841,
     "user": {
      "displayName": "Skillcate AI",
      "userId": "11062674699417926870"
     },
     "user_tz": -330
    },
    "id": "K4tOqu1WoPNv"
   },
   "outputs": [],
   "source": [
    "sc = StandardScaler()\n",
    "X_train = sc.fit_transform(X_train)\n",
    "X_test = sc.transform(X_test)"
   ]
  },
  {
   "cell_type": "code",
   "execution_count": 13,
   "metadata": {
    "colab": {
     "base_uri": "https://localhost:8080/"
    },
    "executionInfo": {
     "elapsed": 5,
     "status": "ok",
     "timestamp": 1673687401568,
     "user": {
      "displayName": "Skillcate AI",
      "userId": "11062674699417926870"
     },
     "user_tz": -330
    },
    "id": "IUCr4Uk3tX6N",
    "outputId": "5c9a4f3d-4460-4d85-8957-f698e739cd03"
   },
   "outputs": [
    {
     "data": {
      "text/plain": [
       "['f2_Normalisation_CreditScoring']"
      ]
     },
     "execution_count": 13,
     "metadata": {},
     "output_type": "execute_result"
    }
   ],
   "source": [
    "# Exporting Normalisation Coefficients for later use in prediction\n",
    "import joblib\n",
    "joblib.dump(sc, 'f2_Normalisation_CreditScoring')"
   ]
  },
  {
   "cell_type": "markdown",
   "metadata": {
    "id": "07xCSknToWAs"
   },
   "source": [
    "### Risk Model building"
   ]
  },
  {
   "cell_type": "code",
   "execution_count": 22,
   "metadata": {
    "executionInfo": {
     "elapsed": 382,
     "status": "ok",
     "timestamp": 1673687404054,
     "user": {
      "displayName": "Skillcate AI",
      "userId": "11062674699417926870"
     },
     "user_tz": -330
    },
    "id": "TGTPbyy_oR8t"
   },
   "outputs": [],
   "source": [
    "classifier =  LogisticRegression()\n",
    "model = classifier.fit(X_train, y_train)\n",
    "y_pred = model.predict(X_test)"
   ]
  },
  {
   "cell_type": "code",
   "execution_count": 23,
   "metadata": {
    "colab": {
     "base_uri": "https://localhost:8080/"
    },
    "executionInfo": {
     "elapsed": 3,
     "status": "ok",
     "timestamp": 1673687406906,
     "user": {
      "displayName": "Skillcate AI",
      "userId": "11062674699417926870"
     },
     "user_tz": -330
    },
    "id": "68MO2J0TocVk",
    "outputId": "551095a3-4fcb-44fa-ce4e-2423c253ce3f"
   },
   "outputs": [
    {
     "data": {
      "text/plain": [
       "['Classifier_CreditScoring']"
      ]
     },
     "execution_count": 23,
     "metadata": {},
     "output_type": "execute_result"
    }
   ],
   "source": [
    "# Exporting Logistic Regression Classifier for later use in prediction\n",
    "\n",
    "# import joblib\n",
    "joblib.dump(classifier, 'Classifier_CreditScoring')"
   ]
  },
  {
   "cell_type": "markdown",
   "metadata": {
    "id": "I2_P-KEioc3g"
   },
   "source": [
    "### Model *performance*"
   ]
  },
  {
   "cell_type": "code",
   "execution_count": 24,
   "metadata": {
    "colab": {
     "base_uri": "https://localhost:8080/"
    },
    "executionInfo": {
     "elapsed": 388,
     "status": "ok",
     "timestamp": 1673687418806,
     "user": {
      "displayName": "Skillcate AI",
      "userId": "11062674699417926870"
     },
     "user_tz": -330
    },
    "id": "9HKoij5MizM9",
    "outputId": "910a9e5f-8902-444c-82d8-b451033cfb78"
   },
   "outputs": [
    {
     "name": "stdout",
     "output_type": "stream",
     "text": [
      "[[487  13]\n",
      " [ 87  13]]\n"
     ]
    }
   ],
   "source": [
    "print(confusion_matrix(y_test,y_pred))"
   ]
  },
  {
   "cell_type": "code",
   "execution_count": 17,
   "metadata": {
    "colab": {
     "base_uri": "https://localhost:8080/"
    },
    "executionInfo": {
     "elapsed": 472,
     "status": "ok",
     "timestamp": 1673687426512,
     "user": {
      "displayName": "Skillcate AI",
      "userId": "11062674699417926870"
     },
     "user_tz": -330
    },
    "id": "pFMF7rivi11c",
    "outputId": "5b3eee0a-4339-4608-de0d-e649c0a4716a"
   },
   "outputs": [
    {
     "name": "stdout",
     "output_type": "stream",
     "text": [
      "0.8333333333333334\n"
     ]
    }
   ],
   "source": [
    "print(accuracy_score(y_test, y_pred))"
   ]
  },
  {
   "cell_type": "markdown",
   "metadata": {
    "id": "OZpWU4xApREd"
   },
   "source": [
    "### Writing output file"
   ]
  },
  {
   "cell_type": "code",
   "execution_count": 18,
   "metadata": {
    "colab": {
     "base_uri": "https://localhost:8080/"
    },
    "executionInfo": {
     "elapsed": 381,
     "status": "ok",
     "timestamp": 1673687439073,
     "user": {
      "displayName": "Skillcate AI",
      "userId": "11062674699417926870"
     },
     "user_tz": -330
    },
    "id": "b5eyiGp9xFam",
    "outputId": "9b2a8011-41a1-4457-e919-0f46d9f876bb"
   },
   "outputs": [
    {
     "data": {
      "text/plain": [
       "array([[0.61644691, 0.38355309],\n",
       "       [0.9885656 , 0.0114344 ],\n",
       "       [0.87069686, 0.12930314],\n",
       "       ...,\n",
       "       [0.94450568, 0.05549432],\n",
       "       [0.46756903, 0.53243097],\n",
       "       [0.94014209, 0.05985791]])"
      ]
     },
     "execution_count": 18,
     "metadata": {},
     "output_type": "execute_result"
    }
   ],
   "source": [
    "predictions = classifier.predict_proba(X_test)\n",
    "predictions"
   ]
  },
  {
   "cell_type": "code",
   "execution_count": 19,
   "metadata": {
    "colab": {
     "base_uri": "https://localhost:8080/",
     "height": 206
    },
    "executionInfo": {
     "elapsed": 930,
     "status": "ok",
     "timestamp": 1673687443544,
     "user": {
      "displayName": "Skillcate AI",
      "userId": "11062674699417926870"
     },
     "user_tz": -330
    },
    "id": "QZZCWhsipijJ",
    "outputId": "79153e53-8089-4dc0-e874-a10b18e2576d"
   },
   "outputs": [
    {
     "data": {
      "text/html": [
       "<div>\n",
       "<style scoped>\n",
       "    .dataframe tbody tr th:only-of-type {\n",
       "        vertical-align: middle;\n",
       "    }\n",
       "\n",
       "    .dataframe tbody tr th {\n",
       "        vertical-align: top;\n",
       "    }\n",
       "\n",
       "    .dataframe thead th {\n",
       "        text-align: right;\n",
       "    }\n",
       "</style>\n",
       "<table border=\"1\" class=\"dataframe\">\n",
       "  <thead>\n",
       "    <tr style=\"text-align: right;\">\n",
       "      <th></th>\n",
       "      <th>Actual Outcome</th>\n",
       "      <th>prob_0</th>\n",
       "      <th>prob_1</th>\n",
       "      <th>predicted_TARGET</th>\n",
       "    </tr>\n",
       "  </thead>\n",
       "  <tbody>\n",
       "    <tr>\n",
       "      <th>0</th>\n",
       "      <td>1</td>\n",
       "      <td>0.616447</td>\n",
       "      <td>0.383553</td>\n",
       "      <td>0</td>\n",
       "    </tr>\n",
       "    <tr>\n",
       "      <th>1</th>\n",
       "      <td>0</td>\n",
       "      <td>0.988566</td>\n",
       "      <td>0.011434</td>\n",
       "      <td>0</td>\n",
       "    </tr>\n",
       "    <tr>\n",
       "      <th>2</th>\n",
       "      <td>1</td>\n",
       "      <td>0.870697</td>\n",
       "      <td>0.129303</td>\n",
       "      <td>0</td>\n",
       "    </tr>\n",
       "    <tr>\n",
       "      <th>3</th>\n",
       "      <td>0</td>\n",
       "      <td>0.953963</td>\n",
       "      <td>0.046037</td>\n",
       "      <td>0</td>\n",
       "    </tr>\n",
       "    <tr>\n",
       "      <th>4</th>\n",
       "      <td>1</td>\n",
       "      <td>0.726633</td>\n",
       "      <td>0.273367</td>\n",
       "      <td>0</td>\n",
       "    </tr>\n",
       "  </tbody>\n",
       "</table>\n",
       "</div>"
      ],
      "text/plain": [
       "   Actual Outcome    prob_0    prob_1  predicted_TARGET\n",
       "0               1  0.616447  0.383553                 0\n",
       "1               0  0.988566  0.011434                 0\n",
       "2               1  0.870697  0.129303                 0\n",
       "3               0  0.953963  0.046037                 0\n",
       "4               1  0.726633  0.273367                 0"
      ]
     },
     "execution_count": 19,
     "metadata": {},
     "output_type": "execute_result"
    }
   ],
   "source": [
    "# writing model output file\n",
    "\n",
    "df_prediction_prob = pd.DataFrame(predictions, columns = ['prob_0', 'prob_1'])\n",
    "df_prediction_target = pd.DataFrame(classifier.predict(X_test), columns = ['predicted_TARGET'])\n",
    "df_test_dataset = pd.DataFrame(y_test,columns= ['Actual Outcome'])\n",
    "\n",
    "dfx=pd.concat([df_test_dataset, df_prediction_prob, df_prediction_target], axis=1)\n",
    "\n",
    "dfx.to_csv(\"Model_Prediction.xlsx\", sep=',', encoding='UTF-8')\n",
    "\n",
    "dfx.head()"
   ]
  },
  {
   "cell_type": "code",
   "execution_count": 20,
   "metadata": {},
   "outputs": [],
   "source": [
    "import pickle"
   ]
  },
  {
   "cell_type": "code",
   "execution_count": 25,
   "metadata": {},
   "outputs": [],
   "source": [
    "# Saving final model\n",
    "filename = 'final_model.sav'\n",
    "pickle.dump(model, open(filename,'wb'))"
   ]
  },
  {
   "cell_type": "code",
   "execution_count": null,
   "metadata": {},
   "outputs": [],
   "source": []
  }
 ],
 "metadata": {
  "colab": {
   "authorship_tag": "ABX9TyO4dbG9j/dwUD3VlA3vkS/q",
   "mount_file_id": "1pd39RJk0kcIKm3WrejNtXoDiW9IWjOfD",
   "provenance": [
    {
     "file_id": "1pd39RJk0kcIKm3WrejNtXoDiW9IWjOfD",
     "timestamp": 1612685590437
    }
   ],
   "toc_visible": true
  },
  "kernelspec": {
   "display_name": "Python 3 (ipykernel)",
   "language": "python",
   "name": "python3"
  },
  "language_info": {
   "codemirror_mode": {
    "name": "ipython",
    "version": 3
   },
   "file_extension": ".py",
   "mimetype": "text/x-python",
   "name": "python",
   "nbconvert_exporter": "python",
   "pygments_lexer": "ipython3",
   "version": "3.10.12"
  }
 },
 "nbformat": 4,
 "nbformat_minor": 1
}
